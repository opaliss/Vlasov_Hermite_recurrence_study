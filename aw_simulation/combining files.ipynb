{
 "cells": [
  {
   "cell_type": "code",
   "execution_count": 1,
   "id": "bb76bdd0-140e-4c4f-b9e4-889adcd77acb",
   "metadata": {},
   "outputs": [],
   "source": [
    "import sys, os\n",
    "sys.path.append(os.path.abspath(os.path.join('..')))\n"
   ]
  },
  {
   "cell_type": "code",
   "execution_count": 2,
   "id": "809b40d7-5c13-442b-88cb-c25e6fba2fd4",
   "metadata": {},
   "outputs": [],
   "source": [
    "import numpy as np \n",
    "import scipy.fft\n",
    "from operators.setup_FOM import SimulationSetupFOM\n",
    "from operators.FOM import psi_ln_aw, charge_density, D_matrix_inv_full, total_mass, total_momentum, total_energy_k, fft_\n",
    "from matplotlib import animation\n",
    "from IPython.display import HTML"
   ]
  },
  {
   "cell_type": "code",
   "execution_count": 3,
   "id": "9712dfe4-246e-4f30-80b5-2ee81f0d11b9",
   "metadata": {},
   "outputs": [],
   "source": [
    "%matplotlib inline\n",
    "import matplotlib\n",
    "font = {'family' : 'serif',\n",
    "        'size'   : 14}\n",
    "\n",
    "matplotlib.rc('font', **font)\n",
    "matplotlib.rc('xtick', labelsize=14) \n",
    "matplotlib.rc('ytick', labelsize=14) \n",
    "\n",
    "import matplotlib.pyplot as plt\n",
    "from matplotlib import animation\n",
    "from IPython.display import HTML\n",
    "\n",
    "plt.rcParams['figure.figsize'] = (5,3)\n",
    "plt.rcParams['figure.dpi'] = 100\n",
    "plt.rcParams['savefig.dpi'] = 100\n",
    "plt.rcParams[\"animation.html\"] = \"jshtml\"  # for matplotlib 2.1 and above, uses JavaScript\n",
    "#plt.rcParams[\"animation.html\"] = \"html5\" # for matplotlib 2.0 and below, converts to x264 using ffmpeg video codec"
   ]
  },
  {
   "cell_type": "markdown",
   "id": "7ea11bd8-4183-4fb5-bb7b-52c2557338f5",
   "metadata": {},
   "source": [
    "# Nonlinear Landau Damping"
   ]
  },
  {
   "cell_type": "code",
   "execution_count": 108,
   "id": "6bc01e03-d361-4b0a-9a67-205ceb7efc0b",
   "metadata": {},
   "outputs": [],
   "source": [
    "setup = SimulationSetupFOM(Nx=100,\n",
    "                           Nx_total=201,\n",
    "                           Nv=1024,\n",
    "                           epsilon=0.5,\n",
    "                           alpha_e=np.sqrt(2),\n",
    "                           alpha_i=np.sqrt(2 / 1836),\n",
    "                           u_e=0,\n",
    "                           u_i=0,\n",
    "                           L=4 * np.pi,\n",
    "                           dt=0.01,\n",
    "                           T0=0,\n",
    "                           T=100,\n",
    "                           nu=15.63969,\n",
    "                           hyper_rate=None,\n",
    "                           col_type=\"hou_li\",\n",
    "                           closure_type=\"truncation\")"
   ]
  },
  {
   "cell_type": "code",
   "execution_count": 115,
   "id": "0507ed9d-aaa8-4b8e-b0d9-7e29aa1410e5",
   "metadata": {},
   "outputs": [],
   "source": [
    "skip = 1\n",
    "# load the simulation results\n",
    "sol_midpoint_u_1 = np.load(\"data/nonlinear_landau_\" + str(setup.Nv) + \"/sol_u_\" + str(setup.Nv) + \"_closure_\" + str(setup.closure_type) + \"_collisions_\" + str(setup.col_type) + \"_\" + str(setup.hyper_rate) + \"_nu_\" + str(setup.nu) + \"_final.npy\")\n",
    "sol_midpoint_u_2 = np.load(\"data/nonlinear_landau_\" + str(setup.Nv) + \"/sol_u_\" + str(setup.Nv) + \"_closure_\" + str(setup.closure_type) + \"_collisions_\" + str(setup.col_type) + \"_\" + str(setup.hyper_rate) + \"_nu_\" + str(setup.nu) + \"T75-100.npy\")\n"
   ]
  },
  {
   "cell_type": "code",
   "execution_count": 116,
   "id": "1b9ce8e2-6ae1-4c96-8875-f4b22c20dca8",
   "metadata": {},
   "outputs": [
    {
     "data": {
      "text/plain": [
       "(205824, 751)"
      ]
     },
     "execution_count": 116,
     "metadata": {},
     "output_type": "execute_result"
    }
   ],
   "source": [
    "np.shape(sol_midpoint_u_1)"
   ]
  },
  {
   "cell_type": "code",
   "execution_count": 117,
   "id": "339aa97e-08ca-4e22-af1b-52efc9b78985",
   "metadata": {},
   "outputs": [
    {
     "data": {
      "text/plain": [
       "(205824, 251)"
      ]
     },
     "execution_count": 117,
     "metadata": {},
     "output_type": "execute_result"
    }
   ],
   "source": [
    "np.shape(sol_midpoint_u_2)"
   ]
  },
  {
   "cell_type": "code",
   "execution_count": 118,
   "id": "71ee8f3a-c1ab-4d44-8623-148ab3de1cd5",
   "metadata": {},
   "outputs": [],
   "source": [
    "sol_midpoint_u_3 = np.append(sol_midpoint_u_1, sol_midpoint_u_2[:, 1:], axis=1)"
   ]
  },
  {
   "cell_type": "code",
   "execution_count": 119,
   "id": "7dd97fb3-3ab3-483a-8691-e37657a5631e",
   "metadata": {},
   "outputs": [
    {
     "data": {
      "text/plain": [
       "(205824, 1001)"
      ]
     },
     "execution_count": 119,
     "metadata": {},
     "output_type": "execute_result"
    }
   ],
   "source": [
    "np.shape(sol_midpoint_u_3)"
   ]
  },
  {
   "cell_type": "code",
   "execution_count": 120,
   "id": "ba772e7f-ed76-4e00-9bc4-0742f63cf19e",
   "metadata": {},
   "outputs": [],
   "source": [
    "np.save(\"data/nonlinear_landau_\" + str(setup.Nv) +  \"/sol_u_\" + str(setup.Nv) + \"_closure_\" + str(setup.closure_type) + \"_collisions_\" + str(setup.col_type) + \"_\" + str(setup.hyper_rate) + \"_nu_\" + str(setup.nu) + \"_final.npy\", sol_midpoint_u_3)"
   ]
  },
  {
   "cell_type": "code",
   "execution_count": null,
   "id": "18878f27-a1bb-4d75-b765-c6720d1f5895",
   "metadata": {},
   "outputs": [],
   "source": []
  }
 ],
 "metadata": {
  "kernelspec": {
   "display_name": "Python 3 (ipykernel)",
   "language": "python",
   "name": "python3"
  },
  "language_info": {
   "codemirror_mode": {
    "name": "ipython",
    "version": 3
   },
   "file_extension": ".py",
   "mimetype": "text/x-python",
   "name": "python",
   "nbconvert_exporter": "python",
   "pygments_lexer": "ipython3",
   "version": "3.9.19"
  }
 },
 "nbformat": 4,
 "nbformat_minor": 5
}
