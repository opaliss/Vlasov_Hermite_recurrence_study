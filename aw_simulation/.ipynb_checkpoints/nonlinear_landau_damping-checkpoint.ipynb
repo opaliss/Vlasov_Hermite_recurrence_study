{
 "cells": [
  {
   "cell_type": "code",
   "execution_count": 1,
   "id": "e3a4090d-2f55-444d-aca8-008353a8cdc2",
   "metadata": {},
   "outputs": [],
   "source": [
    "import sys, os\n",
    "sys.path.append(os.path.abspath(os.path.join('..')))"
   ]
  },
  {
   "cell_type": "code",
   "execution_count": 2,
   "id": "7e0ba9e6-c4a3-45ee-90bf-a2197c7b85c5",
   "metadata": {},
   "outputs": [],
   "source": [
    "import numpy as np \n",
    "import scipy.fft\n",
    "from operators.setup_FOM import SimulationSetupFOM\n",
    "from operators.FOM import psi_ln_aw, charge_density, D_matrix_inv_full, total_mass, total_momentum, total_energy_k, fft_\n",
    "from matplotlib import animation\n",
    "from IPython.display import HTML"
   ]
  },
  {
   "cell_type": "code",
   "execution_count": 3,
   "id": "1308f10b-ca3a-410b-9d83-a614b3723679",
   "metadata": {},
   "outputs": [],
   "source": [
    "%matplotlib inline\n",
    "import matplotlib\n",
    "font = {'family' : 'serif',\n",
    "        'size'   : 14}\n",
    "\n",
    "matplotlib.rc('font', **font)\n",
    "matplotlib.rc('xtick', labelsize=14) \n",
    "matplotlib.rc('ytick', labelsize=14) \n",
    "\n",
    "import matplotlib.pyplot as plt\n",
    "from matplotlib import animation\n",
    "from IPython.display import HTML\n",
    "\n",
    "plt.rcParams['figure.figsize'] = (5,3)\n",
    "plt.rcParams['figure.dpi'] = 100\n",
    "plt.rcParams['savefig.dpi'] = 100\n",
    "plt.rcParams[\"animation.html\"] = \"jshtml\"  # for matplotlib 2.1 and above, uses JavaScript\n",
    "#plt.rcParams[\"animation.html\"] = \"html5\" # for matplotlib 2.0 and below, converts to x264 using ffmpeg video codec"
   ]
  },
  {
   "cell_type": "markdown",
   "id": "8fedf8f4-72f5-41dc-af85-223a2d943281",
   "metadata": {},
   "source": [
    "# Nonlinear (Strong) Landau damping "
   ]
  },
  {
   "cell_type": "code",
   "execution_count": 4,
   "id": "afd9adfe-d85c-498e-a6df-590d709e0f1a",
   "metadata": {},
   "outputs": [],
   "source": [
    "setup = SimulationSetupFOM(Nx=100,\n",
    "                           Nx_total=201,\n",
    "                           Nv=1024,\n",
    "                           epsilon=0.5,\n",
    "                           alpha_e=np.sqrt(2),\n",
    "                           alpha_i=np.sqrt(2 / 1836),\n",
    "                           u_e=0,\n",
    "                           u_i=0,\n",
    "                           L=4 * np.pi,\n",
    "                           dt=0.01,\n",
    "                           T0=0,\n",
    "                           T=100,\n",
    "                           nu=0,\n",
    "                           hyper_rate=None,\n",
    "                           col_type=\"collisionless\",\n",
    "                           closure_type=\"truncation\")"
   ]
  },
  {
   "cell_type": "code",
   "execution_count": 5,
   "id": "00b86e8e-dd27-44ee-8530-460a90592941",
   "metadata": {},
   "outputs": [],
   "source": [
    "# matrices\n",
    "D_inv = D_matrix_inv_full(Nx=setup.Nx, L=setup.L)"
   ]
  },
  {
   "cell_type": "code",
   "execution_count": 6,
   "id": "c3cf88ea-cd71-4a15-9e36-ef8e7b06f1ef",
   "metadata": {},
   "outputs": [],
   "source": [
    "# ions (unperturbed)\n",
    "C0_ions = np.zeros(setup.Nx_total)\n",
    "C0_ions[setup.Nx] = 1 / setup.alpha_i"
   ]
  },
  {
   "cell_type": "code",
   "execution_count": 7,
   "id": "59082ae6-270b-4793-9cfb-4cd2dcbe5dbc",
   "metadata": {},
   "outputs": [],
   "source": [
    "# velocity grid for plotting purposes\n",
    "v = np.linspace(-4, 4, int(10**3))\n",
    "# spatial grid \n",
    "x = np.linspace(0, setup.L, 2*setup.Nx+1)"
   ]
  },
  {
   "cell_type": "markdown",
   "id": "388f87e9-351d-4c75-bb7d-c22dddd3db58",
   "metadata": {},
   "source": [
    "# simulation results"
   ]
  },
  {
   "cell_type": "code",
   "execution_count": 8,
   "id": "afacab63-4f29-416a-b76b-37ba9e67f211",
   "metadata": {},
   "outputs": [
    {
     "name": "stdout",
     "output_type": "stream",
     "text": [
      "(205824, 1001)\n",
      "(1001,)\n"
     ]
    }
   ],
   "source": [
    "skip = 1\n",
    "# load the simulation results\n",
    "sol_midpoint_u = np.load(\"data/nonlinear_landau_\" + str(setup.Nv) + \"/sol_u_\" + str(setup.Nv) + \"_closure_\" + str(setup.closure_type) + \"_collisions_\" + str(setup.col_type) + \"_\" + str(setup.hyper_rate) + \"_nu_\" + str(setup.nu) + \".npy\")[:, ::skip]\n",
    "sol_midpoint_t = np.linspace(setup.T0, setup.T, np.shape(sol_midpoint_u)[1])\n",
    "\n",
    "dt = 0.1 * skip\n",
    "\n",
    "# print simulation dimensions\n",
    "print(np.shape(sol_midpoint_u))\n",
    "print(np.shape(sol_midpoint_t))"
   ]
  },
  {
   "cell_type": "code",
   "execution_count": 9,
   "id": "1c68e6a5-0988-4a0f-91e2-3056f69a16ef",
   "metadata": {},
   "outputs": [],
   "source": [
    "# initialize the electric potential\n",
    "E_midpoint_coeff = np.zeros((setup.Nx_total, len(sol_midpoint_t)), dtype=\"complex128\")\n",
    "E_midpoint = np.zeros((setup.Nx_total, len(sol_midpoint_t)))"
   ]
  },
  {
   "cell_type": "code",
   "execution_count": null,
   "id": "04d34a20-8619-4d03-a7df-d0ba6acd7af9",
   "metadata": {
    "scrolled": true
   },
   "outputs": [
    {
     "name": "stdout",
     "output_type": "stream",
     "text": [
      "time =  0.0\n",
      "time =  0.1\n",
      "time =  0.2\n",
      "time =  0.30000000000000004\n",
      "time =  0.4\n"
     ]
    }
   ],
   "source": [
    "# initialize the states for implicit midpoint (symplectic)\n",
    "state_e_midpoint = np.zeros((setup.Nv,  setup.Nx_total, len(sol_midpoint_t)))\n",
    "# save coefficients \n",
    "state_e_coeff = np.zeros((setup.Nv, setup.Nx_total, len(sol_midpoint_t)), dtype=\"complex128\")\n",
    "\n",
    "for ii in np.arange(0, len(sol_midpoint_t), 1):\n",
    "    print(\"time = \", sol_midpoint_t[ii])\n",
    "    for n in range(setup.Nv):\n",
    "        # unwind the flattening to solve the Vlasov-Poisson system\n",
    "        # electrons\n",
    "        state_e_coeff[n, :, ii]  = sol_midpoint_u[n*setup.Nx_total: (n+1)*setup.Nx_total, ii]\n",
    "        state_e_midpoint[n, :, ii] = fft_(coefficient=state_e_coeff[n, :, ii], Nx=setup.Nx, x=x, L=setup.L)\n",
    "\n",
    "    # solve Poisson's equation to obtain an electric field\n",
    "    E_midpoint_coeff[:, ii] = D_inv @ charge_density(C0_electron=sol_midpoint_u[:setup.Nx_total, ii], C0_ions=C0_ions,\n",
    "                                                     alpha_e=setup.alpha_e, alpha_i=setup.alpha_i, \n",
    "                                                     q_e=setup.q_e, q_i=setup.q_i)\n",
    "    \n",
    "    E_midpoint[:-1, ii] = scipy.fft.irfft(E_midpoint_coeff[setup.Nx:, ii], norm=\"forward\")\n",
    "    E_midpoint[-1, ii] = E_midpoint[0, ii]"
   ]
  },
  {
   "cell_type": "code",
   "execution_count": null,
   "id": "ad265c47-45dd-40f4-9d0a-76dd122ba497",
   "metadata": {},
   "outputs": [],
   "source": [
    "# plot the electric field\n",
    "fig, ax = plt.subplots(ncols=3, figsize=(12, 3))\n",
    "pos = ax[0].contourf(x, sol_midpoint_t, E_midpoint.T, cmap=\"RdBu\", levels=30)\n",
    "cbar = fig.colorbar(pos)\n",
    "ax[0].set_title(\"$E(x, t)$\")\n",
    "ax[0].set_xlabel(\"$x$\")\n",
    "_ = ax[0].set_xticks([0, 2*np.pi, 4*np.pi-.05])\n",
    "_ = ax[0].set_xticklabels([r\"0\", r\"$2\\pi$\", r\"$4\\pi$\"])\n",
    "_ = ax[0].set_ylabel(\"$t$\")\n",
    "\n",
    "pos = ax[1].contourf(np.arange(setup.Nx_total), sol_midpoint_t, E_midpoint_coeff.real.T, cmap=\"RdBu\", levels=30)\n",
    "cbar = fig.colorbar(pos)\n",
    "ax[1].set_xlim(0, 15)\n",
    "ax[1].set_title(\"$Re[\\hat{E}(k, t)]$\")\n",
    "\n",
    "pos = ax[2].contourf(np.arange(setup.Nx_total), sol_midpoint_t, E_midpoint_coeff.imag.T, cmap=\"RdBu\", levels=30)\n",
    "cbar = fig.colorbar(pos)\n",
    "ax[2].set_xlim(0, 15)\n",
    "ax[2].set_title(\"$Im[\\hat{E}(k, t)]$\")\n",
    "\n",
    "plt.tight_layout()\n",
    "#plt.savefig(\"../figs/FOM/linear_landau/electric_field_FOM\" + str(setup.Nv)+ \".png\", dpi=600)"
   ]
  },
  {
   "cell_type": "code",
   "execution_count": null,
   "id": "8b1f976f-c21a-469b-84bb-cd1104b59b8a",
   "metadata": {},
   "outputs": [],
   "source": [
    "fig, ax = plt.subplots(figsize=(4, 4))\n",
    "\n",
    "mat = np.abs(sol_midpoint_u[np.arange(setup.Nx+1, (2*setup.Nx+1)*setup.Nv, 2*setup.Nx+1), :])\n",
    "pos = ax.pcolormesh(np.arange(setup.Nv), sol_midpoint_t, np.log10((mat**2)/np.max(mat**2, axis=0)).T, vmin=-6, vmax=0., cmap=\"Spectral_r\", shading=\"gouraud\")\n",
    "\n",
    "ax.set_xlabel(\"$n$ Hermite moment\")\n",
    "ax.set_ylabel(\"$t$\")\n",
    "ax.set_ylim(setup.T0, setup.T)\n",
    "ax.set_ylim(0, 100)\n",
    "ax.set_yticks([0, 25, 50, 75, 100])\n",
    "cbar = fig.colorbar(pos, ticks=[-6, -4, -2, 0])\n",
    "cbar.ax.set_yticklabels(['$10^{-6}$', '$10^{-4}$', '$10^{-2}$', \"$10^{0}$\"])\n",
    "plt.tight_layout()\n",
    "plt.savefig(\"figs/nonlinear_landau/manuscript/nonlinear_landau_moment_cascade_\" + str(setup.Nv)+ \"_closure_\" + str(setup.closure_type) + \"_collisions_\" + str(setup.col_type) + \"_\" + str(setup.hyper_rate) +\"_\" + str(setup.nu) +  \".png\", dpi=200, bbox_inches='tight')"
   ]
  },
  {
   "cell_type": "code",
   "execution_count": null,
   "id": "34f975d5-a211-43b2-9a6a-549d729a969e",
   "metadata": {},
   "outputs": [],
   "source": [
    "fig, ax = plt.subplots(figsize=(4, 3))\n",
    "for tt in np.arange(0, int(100/dt), 100):\n",
    "    plt.plot(np.arange(setup.Nx+1)*2*np.pi/setup.L, np.abs(E_midpoint_coeff[setup.Nx:, tt]), label=r\"$t=$\" + str(int(sol_midpoint_t[tt])))\n",
    "ax.set_yscale(\"log\")\n",
    "ax.set_xlabel(\"$2 \\pi k/L$\")\n",
    "ax.spines['right'].set_visible(False)\n",
    "ax.spines['top'].set_visible(False)\n",
    "ax.set_xlim(0, (setup.Nx+1)*2*np.pi/setup.L)\n",
    "legend = ax.legend(ncols=1, fancybox=False, shadow=False, fontsize=12, loc='upper right')\n",
    "legend.get_frame().set_alpha(0)\n",
    "ax.set_ylim(1e-16, 1)\n",
    "\n",
    "plt.tight_layout()\n",
    "plt.savefig(\"figs/nonlinear_landau/nonlinear_landau_coefficient_\" + str(setup.Nv)+ \"_closure_\" + str(setup.closure_type) + \"_collisions_\" + str(setup.col_type) + \".png\", dpi=200, bbox_inches='tight')"
   ]
  },
  {
   "cell_type": "code",
   "execution_count": null,
   "id": "bd52b9f5-8376-4aa2-9ccc-2d049cd7a125",
   "metadata": {},
   "outputs": [],
   "source": [
    "np.save(\"data/nonlinear_landau_\" + str(setup.Nv) + \"/E_\" + str(setup.Nv) + \"_closure_\" + str(setup.closure_type) + \"_collisions_\" + str(setup.col_type) + \"_\" + str(setup.hyper_rate) + \"_nu_\" + str(setup.nu) + \".npy\", E_midpoint)\n",
    "np.save(\"data/nonlinear_landau_\" + str(setup.Nv) + \"/E_coeff_\" + str(setup.Nv) + \"_closure_\" + str(setup.closure_type) + \"_collisions_\" + str(setup.col_type) + \"_\" + str(setup.hyper_rate) + \"_nu_\" + str(setup.nu) + \".npy\", E_midpoint_coeff)"
   ]
  },
  {
   "cell_type": "code",
   "execution_count": null,
   "id": "e7b776e7-3144-4fa0-84e3-d2947b6d89c3",
   "metadata": {},
   "outputs": [],
   "source": [
    "# plot the electric field damping rate\n",
    "fig, ax = plt.subplots(figsize=(6, 5))\n",
    "\n",
    "# hyper 1 (LB) tab:blue -\n",
    "E_LB = np.load(\"data/nonlinear_landau_300/E_coeff_300_closure_truncation_collisions_hyper_1_nu_0.55.npy\")\n",
    "ax.plot(sol_midpoint_t, np.abs(E_LB[setup.Nx+1]), \"-\", c=\"tab:blue\", alpha=0.6, linewidth=2, label=r\"collisions $\\alpha=1$\") \n",
    "\n",
    "# hyper 2 (Camporeale) tab:orange -\n",
    "E_hyper2 = np.load(\"data/nonlinear_landau_300/E_coeff_300_closure_truncation_collisions_hyper_2_nu_1.312.npy\")\n",
    "ax.plot(sol_midpoint_t, np.abs(E_hyper2[setup.Nx+1]), \"-\", c=\"tab:orange\", alpha=0.6, linewidth=2, label=r\"collisions $\\alpha=2$\") \n",
    "\n",
    "# hyper 3 tab:green -\n",
    "E_hyper3 = np.load(\"data/nonlinear_landau_300/E_coeff_300_closure_truncation_collisions_hyper_3_nu_2.013.npy\")\n",
    "ax.plot(sol_midpoint_t, np.abs(E_hyper3[setup.Nx+1]), \"--\", c=\"tab:green\", alpha=0.6, linewidth=2, label=r\"collisions $\\alpha=3$\") \n",
    "\n",
    "\n",
    "# hyper 4 tab:red -\n",
    "E_hyper4 = np.load(\"data/nonlinear_landau_300/E_coeff_300_closure_truncation_collisions_hyper_4_nu_2.7446.npy\")\n",
    "ax.plot(sol_midpoint_t, np.abs(E_hyper4[setup.Nx+1]), \"-\", c=\"tab:red\", alpha=0.6, linewidth=2, label=r\"collisions $\\alpha=4$\") \n",
    "\n",
    "\n",
    "# nonlocal closure tab: brown --\n",
    "E_hp = np.load(\"data/nonlinear_landau_300/E_coeff_300_closure_hammett_perkins_collisions_collisionless_None_nu_0.npy\")\n",
    "ax.plot(sol_midpoint_t, np.abs(E_hp[setup.Nx+1]), \"--\", c=\"tab:brown\", alpha=0.6, linewidth=2, label=r\"nonlocal closure $N_{m}=1$\") \n",
    "\n",
    "\n",
    "# hou li filter\n",
    "E_filter = np.load(\"data/nonlinear_landau_300/E_coeff_300_closure_truncation_collisions_hou_li_None_nu_12.228.npy\")\n",
    "ax.plot(sol_midpoint_t, np.abs(E_filter[setup.Nx+1]), \":\", c=\"tab:gray\", alpha=0.6, linewidth=2, label=\"Hou-Li filter\") \n",
    "\n",
    "# collisionless closure by truncation\n",
    "E_collisionless = np.load(\"data/nonlinear_landau_300/E_coeff_300_closure_truncation_collisions_collisionless_None_nu_0.npy\")\n",
    "ax.plot(sol_midpoint_t, np.abs(E_collisionless[setup.Nx+1]), \"-.\", c=\"tab:purple\", alpha=0.6, linewidth=2, label=\"collisionless w/ closure by truncation\") \n",
    "\n",
    "\n",
    "ax.set_yscale(\"log\")\n",
    "ax.spines['right'].set_visible(False)\n",
    "ax.spines['top'].set_visible(False)\n",
    "ax.set_ylabel(\"$|\\hat{E}(k=1/2)|$\")\n",
    "ax.set_xlim(setup.T0, setup.T)\n",
    "ax.set_yticks([1, 1e-2, 1e-4, 1e-6])\n",
    "ax.set_xlabel(\"$ t$\")\n",
    "ax.set_ylim(1e-6, 1)\n",
    "legend = ax.legend(ncols=1, fancybox=False, shadow=False, fontsize=12, loc='lower left')\n",
    "legend.get_frame().set_alpha(0)\n",
    "#ax.set_xticks([0,5, 10, 15, 20])\n",
    "plt.tight_layout()\n",
    "plt.savefig(\"figs/nonlinear_landau/manuscript/nonlinear_landau_electric_field_damping.png\", dpi=200, bbox_inches='tight')"
   ]
  },
  {
   "cell_type": "code",
   "execution_count": null,
   "id": "a5d4589e-6294-401c-b8a1-edffe7f571b1",
   "metadata": {},
   "outputs": [],
   "source": [
    "# plot the phase space evolution as a function of time\n",
    "fig, ax = plt.subplots(nrows=2, figsize=(5, 6), sharex=True)\n",
    "for tt, ii in enumerate([int(20/dt), int(40/dt)]):\n",
    "    ii = int(ii)\n",
    "    distribution = np.zeros((len(x), len(v)))\n",
    "    for jj in range(setup.Nv):\n",
    "        distribution += np.outer(state_e_midpoint[jj, :, ii], psi_ln_aw(xi=(v - setup.u_e)/setup.alpha_e, v=v, u_s=setup.u_e, alpha_s=setup.alpha_e, n=jj))\n",
    "    pos = ax[tt].pcolormesh(x, v, (distribution).T, cmap=\"Spectral_r\", vmin=0, vmax=0.5)\n",
    "    ax[tt].set_ylabel(\"$v$\")\n",
    "    cbar = fig.colorbar(pos)\n",
    "    ax[tt].set_yticks([-4, -2, 0, 2, 4])\n",
    "    cbar.ax.set_ylabel(r'$f(x, v, t=$' + str(int(sol_midpoint_t[ii])) + \")\", rotation=90)\n",
    "    cbar.ax.set_yticks([0, 0.1, 0.2, 0.3, 0.4, 0.5])\n",
    "    cbar.ax.set_yticklabels([r\"0\", r\"0.1\", r\"0.2\", r\"0.3\", r\"0.4\", r\"0.5\"])\n",
    "    \n",
    "ax[tt].set_xticks([0, 2*np.pi, 4*np.pi])\n",
    "ax[tt].set_xticklabels([r\"0\", r\"$2\\pi$\", r\"$4\\pi$\"])\n",
    "ax[tt].set_yticks([-4, -2, 0, 2, 4])\n",
    "ax[tt].set_xlabel(\"$x$\")\n",
    "plt.tight_layout()\n",
    "plt.savefig(\"figs/nonlinear_landau/manuscript/nonlinear_landau_evolution_\" + str(setup.Nv) + \"_closure_\" + str(setup.closure_type) + \"_collisions_\" + str(setup.col_type) + \"_\" + str(setup.hyper_rate) + \"_\" + str(setup.nu) +  \".png\", dpi=200, bbox_inches='tight')"
   ]
  },
  {
   "cell_type": "code",
   "execution_count": 18,
   "id": "d6337099-6726-4dcf-ad8e-92ce772c431e",
   "metadata": {},
   "outputs": [],
   "source": [
    "fig, ax = plt.subplots(figsize=(6, 4), dpi = 100)\n",
    "\n",
    "def animate(ii):\n",
    "    ii = int(10*ii)\n",
    "    distribution = np.zeros((len(x), len(v)))\n",
    "    for jj in range(setup.Nv):\n",
    "        distribution += np.outer(state_e_midpoint[jj, :, ii], psi_ln_aw(xi=(v - setup.u_e)/setup.alpha_e, v=v, alpha_s=setup.alpha_e, u_s=setup.u_e, n=jj))\n",
    "    pos = ax.pcolormesh(x, v, distribution.T, cmap=\"hot\", vmin=0)\n",
    "    ax.set_yticks([-4, -2, 0, 2, 4])\n",
    "    ax.set_ylabel(\"$v$\")\n",
    "    ax.set_title(\"$f^{e}(x, v, t=$\" + str(int(sol_midpoint_t[ii])) + \")\")\n",
    "    ax.set_xlabel(\"$x$\")\n",
    "    ax.set_xticks([0, 2*np.pi, 4*np.pi])\n",
    "    ax.set_xticklabels([r\"0\", r\"$2\\pi$\", r\"$4\\pi$\"])\n",
    "    plt.tight_layout()\n",
    "ani = animation.FuncAnimation(fig, animate, frames=len(sol_midpoint_t[::10]))\n",
    "ani.save(\"figs/nonlinear_landau/animation/nonlinear_landau_evolution_\" + str(setup.Nv)+ \"_closure_\" + str(setup.closure_type) + \"_collisions_\" + str(setup.col_type) + \"_vid.gif\", writer='pillow', dpi = \"figure\")\n",
    "plt.close()"
   ]
  },
  {
   "cell_type": "code",
   "execution_count": 19,
   "id": "5a3cdb5e-707b-4dec-9239-99b643fdcec5",
   "metadata": {},
   "outputs": [
    {
     "name": "stderr",
     "output_type": "stream",
     "text": [
      "Exception ignored in: <function TransformNode.set_children.<locals>.<lambda> at 0x7f8c95f3b8b0>\n",
      "Traceback (most recent call last):\n",
      "  File \"/opt/anaconda3/envs/rom/lib/python3.9/site-packages/matplotlib/transforms.py\", line 198, in <lambda>\n",
      "    self, lambda _, pop=child._parents.pop, k=id_self: pop(k))\n",
      "KeyboardInterrupt: \n",
      "\n",
      "KeyboardInterrupt\n",
      "\n"
     ]
    },
    {
     "data": {
      "text/plain": [
       "<Figure size 500x300 with 0 Axes>"
      ]
     },
     "metadata": {},
     "output_type": "display_data"
    }
   ],
   "source": [
    "ani"
   ]
  },
  {
   "cell_type": "markdown",
   "id": "d996f9de-c736-4c85-924a-6184bac73c2a",
   "metadata": {},
   "source": [
    "# conservation laws: mass, momentum, and energy"
   ]
  },
  {
   "cell_type": "markdown",
   "id": "5fe9881a-b904-4be4-be2b-b0ced7742bfc",
   "metadata": {},
   "source": [
    "### mass conservation"
   ]
  },
  {
   "cell_type": "code",
   "execution_count": null,
   "id": "c6aa3563-fd66-4c69-8f2b-c560a519f02f",
   "metadata": {},
   "outputs": [],
   "source": [
    "# compute mass at each timestamp\n",
    "mass_midpoint = np.zeros(len(sol_midpoint_t))\n",
    "\n",
    "for ii in range(0, len(sol_midpoint_t)):\n",
    "    mass_midpoint[ii] = total_mass(psi=np.append(sol_midpoint_u[:, ii], C0_ions), \n",
    "                                   alpha_e=setup.alpha_e, alpha_i=setup.alpha_i, \n",
    "                                   L=setup.L, Nv=setup.Nv, Nx=setup.Nx).real"
   ]
  },
  {
   "cell_type": "code",
   "execution_count": null,
   "id": "13e53c62-29f9-4f8c-9dd6-1447589bf2d7",
   "metadata": {},
   "outputs": [],
   "source": [
    "# plot mass conservation\n",
    "fig, ax = plt.subplots(figsize=(6, 4))\n",
    "ax.plot(sol_midpoint_t, np.abs(mass_midpoint - mass_midpoint[0]), \"-\")\n",
    "#ax.set_yscale(\"log\")\n",
    "ax.spines['right'].set_visible(False)\n",
    "ax.spines['top'].set_visible(False)\n",
    "ax.set_ylabel(r\"$|\\mathcal{N}^{tot}(t) - \\mathcal{N}^{tot}(t=0)|$\", fontsize=15)\n",
    "ax.set_xlabel(\"$t$\")\n",
    "ax.set_xlim(setup.T0, setup.T)\n",
    "plt.tight_layout()"
   ]
  },
  {
   "cell_type": "markdown",
   "id": "677ab24e-c128-4ccf-bef8-a86c3a058c6b",
   "metadata": {},
   "source": [
    "### momentum conservation"
   ]
  },
  {
   "cell_type": "code",
   "execution_count": null,
   "id": "e74bf70e-b6fa-4056-aa12-f3416c69bd08",
   "metadata": {},
   "outputs": [],
   "source": [
    "# compute momentum at each timestamp\n",
    "momentum_midpoint = np.zeros(len(sol_midpoint_t))\n",
    "\n",
    "for ii in range(0, len(sol_midpoint_t)):\n",
    "    momentum_midpoint[ii] = total_momentum(psi=np.append(sol_midpoint_u[:, ii], np.append(C0_ions, np.zeros(setup.Nx_total))), \n",
    "                                          alpha_e=setup.alpha_e, \n",
    "                                          alpha_i=setup.alpha_i, \n",
    "                                          Nv=setup.Nv, \n",
    "                                          Nx=setup.Nx, \n",
    "                                          L=setup.L, \n",
    "                                          m_i=setup.m_i, \n",
    "                                          m_e=setup.m_e,\n",
    "                                          u_e=setup.u_e, \n",
    "                                          u_i=setup.u_i).real"
   ]
  },
  {
   "cell_type": "code",
   "execution_count": null,
   "id": "21c29070-d6a7-4874-871f-418e165f0106",
   "metadata": {},
   "outputs": [],
   "source": [
    "# plot momentum conservation\n",
    "fig, ax = plt.subplots(figsize=(6, 4))\n",
    "ax.plot(sol_midpoint_t, np.abs(momentum_midpoint - momentum_midpoint[0]), \"-\")\n",
    "#ax.set_yscale(\"log\")\n",
    "ax.spines['right'].set_visible(False)\n",
    "ax.spines['top'].set_visible(False)\n",
    "ax.set_ylabel(r\"$|P_{mech}(t)-P_{mech}(t=0)|$\", fontsize=15)\n",
    "ax.set_xlim(setup.T0, setup.T)\n",
    "ax.set_xlabel(\"$t$\")\n",
    "plt.tight_layout()"
   ]
  },
  {
   "cell_type": "markdown",
   "id": "fd5a0258-6058-4882-a8cb-bd94cc6c9a56",
   "metadata": {},
   "source": [
    "### energy conservation"
   ]
  },
  {
   "cell_type": "code",
   "execution_count": null,
   "id": "9e997560-27cc-4056-802a-1422653d5d57",
   "metadata": {},
   "outputs": [],
   "source": [
    "# compute energy (kinetic + potential) at each timestamp\n",
    "energy_k_midpoint = np.zeros(len(sol_midpoint_t))\n",
    "energy_p_midpoint = np.zeros(len(sol_midpoint_t))\n",
    "\n",
    "for ii in range(0, len(sol_midpoint_t)):\n",
    "    energy_k_midpoint[ii] = total_energy_k(psi=np.append(sol_midpoint_u[:, ii], np.append(C0_ions, np.zeros(2*setup.Nx_total))), \n",
    "                                           alpha_e=setup.alpha_e,\n",
    "                                           alpha_i=setup.alpha_i, \n",
    "                                           Nv=setup.Nv, \n",
    "                                           Nx=setup.Nx, \n",
    "                                           L=setup.L, \n",
    "                                           u_e=setup.u_e, \n",
    "                                           u_i=setup.u_i, \n",
    "                                           m_e=setup.m_e, \n",
    "                                           m_i=setup.m_i).real\n",
    "    \n",
    "    energy_p_midpoint[ii] = 0.5*setup.L*(np.sum(np.abs(E_midpoint_coeff[setup.Nx:, ii])**2) + np.sum(np.abs(np.conjugate(E_midpoint_coeff[setup.Nx + 1:, ii]))**2))"
   ]
  },
  {
   "cell_type": "code",
   "execution_count": null,
   "id": "200e07f7-c332-4699-ac8e-6c6a45c70d09",
   "metadata": {},
   "outputs": [],
   "source": [
    "# plot energy conservation\n",
    "fig, ax = plt.subplots(figsize=(6, 4))\n",
    "ax.plot(sol_midpoint_t, np.abs(energy_p_midpoint + energy_k_midpoint -energy_p_midpoint[0]-energy_k_midpoint[0]), \"-\")\n",
    "ax.spines['right'].set_visible(False)\n",
    "ax.spines['top'].set_visible(False)\n",
    "ax.set_ylabel(r\"$|\\mathcal{\\epsilon}_{total}(t)-\\mathcal{\\epsilon}_{total}(t=0)|$\", fontsize=15)\n",
    "ax.set_xlabel(\"$ t$\")\n",
    "ax.set_xlim(setup.T0, setup.T)\n",
    "ax.set_yscale(\"log\")\n",
    "plt.tight_layout()"
   ]
  },
  {
   "cell_type": "code",
   "execution_count": null,
   "id": "0e3476a5-403c-4eb4-9db2-53a50a261fb4",
   "metadata": {},
   "outputs": [],
   "source": [
    "# plot the (kinetic + potential) energy exchange\n",
    "fig, ax = plt.subplots(figsize=(7, 3))\n",
    "plt.plot(sol_midpoint_t, energy_k_midpoint- energy_k_midpoint[0], label=\"kinetic energy\", ls=\"--\", linewidth=2, color=\"blue\")\n",
    "plt.plot(sol_midpoint_t, energy_p_midpoint- energy_p_midpoint[0], label=\"potential energy\", linewidth=2, color=\"red\")\n",
    "legend = ax.legend(ncols=2, fontsize=14, loc='upper center', bbox_to_anchor=(0.5, 1.15))\n",
    "legend.get_frame().set_alpha(0)\n",
    "#ax.set_xlim(0, 100)\n",
    "ax.spines['right'].set_visible(False)\n",
    "ax.spines['top'].set_visible(False)\n",
    "ax.set_xlabel(\"t\")\n",
    "_ = ax.set_ylabel(r\"$\\Delta E$\")"
   ]
  },
  {
   "cell_type": "code",
   "execution_count": null,
   "id": "7b36cb05-8940-4ca4-9dd0-7c83aec8414d",
   "metadata": {},
   "outputs": [],
   "source": [
    "# plot the analytic and numerical conservation properties\n",
    "fig, ax = plt.subplots(figsize=(7, 3))\n",
    "ax.scatter(sol_midpoint_t[::20], np.abs(mass_midpoint-mass_midpoint[0])[::20], s=30, color=\"black\", label=r\"particle number $\\mathcal{M}(t)$\")\n",
    "ax.plot(sol_midpoint_t[::20], np.abs(momentum_midpoint-momentum_midpoint[0])[::20], \"x\", color=\"blue\", label=r\"momentum $\\mathcal{P}(t)$\")\n",
    "ax.plot(sol_midpoint_t[::20], np.abs(energy_p_midpoint + energy_k_midpoint -energy_p_midpoint[0]-energy_k_midpoint[0])[::20], \">\", color=\"purple\", label=r\"energy $\\mathcal{E}(t)$\")\n",
    "ax.set_ylim(10**-14, 10**-10)\n",
    "ax.set_yscale(\"log\")\n",
    "ax.spines['right'].set_visible(False)\n",
    "ax.spines['top'].set_visible(False)\n",
    "ax.set_ylabel(r\"Absolute Error\")\n",
    "ax.set_xlabel(\"$t$\")\n",
    "ax.set_xlim(setup.T0, setup.T)\n",
    "ax.set_yscale(\"log\")\n",
    "legend = ax.legend(ncols=2, fontsize=14, loc='upper center', bbox_to_anchor=(0.5, 1.4))\n",
    "text = ax.text(-0.2,1.05, \" \", transform=ax.transAxes)\n",
    "legend.get_frame().set_alpha(0)\n",
    "#plt.savefig(\"../figs/FOM/linear_landau/conservation_\" + str(setup.Nv) + \"_two_stream_FOM.png\", bbox_extra_artists=(legend,text), bbox_inches='tight', dpi=600)"
   ]
  },
  {
   "cell_type": "code",
   "execution_count": null,
   "id": "1b0c9b6a-e987-4ce4-8653-3a6222967274",
   "metadata": {},
   "outputs": [],
   "source": []
  }
 ],
 "metadata": {
  "kernelspec": {
   "display_name": "Python 3 (ipykernel)",
   "language": "python",
   "name": "python3"
  },
  "language_info": {
   "codemirror_mode": {
    "name": "ipython",
    "version": 3
   },
   "file_extension": ".py",
   "mimetype": "text/x-python",
   "name": "python",
   "nbconvert_exporter": "python",
   "pygments_lexer": "ipython3",
   "version": "3.9.19"
  }
 },
 "nbformat": 4,
 "nbformat_minor": 5
}
