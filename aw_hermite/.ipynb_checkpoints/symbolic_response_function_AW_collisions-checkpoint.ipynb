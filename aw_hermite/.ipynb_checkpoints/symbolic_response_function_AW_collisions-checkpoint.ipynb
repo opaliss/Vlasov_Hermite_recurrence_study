{
 "cells": [
  {
   "cell_type": "code",
   "execution_count": 1,
   "id": "be59ac0e-cee4-4063-a6c0-ed642384be0b",
   "metadata": {},
   "outputs": [],
   "source": [
    "import sys, os\n",
    "sys.path.append(os.path.abspath(os.path.join('..')))"
   ]
  },
  {
   "cell_type": "code",
   "execution_count": 2,
   "id": "fd1a845c",
   "metadata": {},
   "outputs": [],
   "source": [
    "import sympy \n",
    "from sympy import banded, ones, Matrix, symbols, sqrt, print_latex\n",
    "import numpy as np\n",
    "import matplotlib.pyplot as plt\n",
    "from scipy.special import wofz \n",
    "import scipy"
   ]
  },
  {
   "cell_type": "code",
   "execution_count": 3,
   "id": "dcea452b-3095-48ae-beba-eafe3a65d37b",
   "metadata": {},
   "outputs": [],
   "source": [
    "%matplotlib inline\n",
    "import matplotlib\n",
    "font = {'family' : 'serif',\n",
    "        'size'   : 14}\n",
    "\n",
    "matplotlib.rc('font', **font)\n",
    "matplotlib.rc('xtick', labelsize=14) \n",
    "matplotlib.rc('ytick', labelsize=14) "
   ]
  },
  {
   "cell_type": "code",
   "execution_count": 4,
   "id": "9ce7845f",
   "metadata": {},
   "outputs": [],
   "source": [
    "Nv = 4"
   ]
  },
  {
   "cell_type": "code",
   "execution_count": 35,
   "id": "6f7964ab",
   "metadata": {},
   "outputs": [],
   "source": [
    "xi, nu, k= symbols('xi nu k') "
   ]
  },
  {
   "cell_type": "code",
   "execution_count": 36,
   "id": "84847bf6",
   "metadata": {},
   "outputs": [],
   "source": [
    "vec = sympy.zeros(Nv)\n",
    "for jj in range(1, Nv+1):\n",
    "    vec[jj-1] = sympy.sqrt(jj) / sympy.sqrt(2)"
   ]
  },
  {
   "cell_type": "code",
   "execution_count": 37,
   "id": "fa344bbd",
   "metadata": {},
   "outputs": [
    {
     "data": {
      "text/latex": [
       "$\\displaystyle \\left[\\begin{matrix}\\frac{\\sqrt{2}}{2} & 1 & \\frac{\\sqrt{6}}{2} & \\sqrt{2}\\end{matrix}\\right]$"
      ],
      "text/plain": [
       "Matrix([[sqrt(2)/2, 1, sqrt(6)/2, sqrt(2)]])"
      ]
     },
     "execution_count": 37,
     "metadata": {},
     "output_type": "execute_result"
    }
   ],
   "source": [
    "vec[0, :]"
   ]
  },
  {
   "cell_type": "code",
   "execution_count": 38,
   "id": "637fa026-a273-471a-9ac0-489703cb106c",
   "metadata": {},
   "outputs": [],
   "source": [
    "vec2 = sympy.zeros(Nv)\n",
    "for jj in range(0, Nv+1):\n",
    "    vec2[jj] = sympy.Rational((jj)*(jj-1)*(jj-2), (Nv-1)*(Nv-2)*(Nv-3))"
   ]
  },
  {
   "cell_type": "code",
   "execution_count": 39,
   "id": "8f84f92b-bca0-4772-9f1f-6852e65fea57",
   "metadata": {},
   "outputs": [
    {
     "data": {
      "text/latex": [
       "$\\displaystyle \\left[\\begin{matrix}0 & 0 & 0 & 1\\end{matrix}\\right]$"
      ],
      "text/plain": [
       "Matrix([[0, 0, 0, 1]])"
      ]
     },
     "execution_count": 39,
     "metadata": {},
     "output_type": "execute_result"
    }
   ],
   "source": [
    "vec2[0, :]"
   ]
  },
  {
   "cell_type": "code",
   "execution_count": 46,
   "id": "b60e2452",
   "metadata": {},
   "outputs": [],
   "source": [
    "A = banded({1: tuple(vec[0, :-1]), -1: tuple(vec[0, :-1]), 0: tuple(nu*vec2[0, :]/(sympy.I*sympy.sqrt(2)*k))})"
   ]
  },
  {
   "cell_type": "code",
   "execution_count": 47,
   "id": "7c2fb82a",
   "metadata": {},
   "outputs": [
    {
     "data": {
      "text/latex": [
       "$\\displaystyle \\left[\\begin{matrix}0 & \\frac{\\sqrt{2}}{2} & 0 & 0\\\\\\frac{\\sqrt{2}}{2} & 0 & 1 & 0\\\\0 & 1 & 0 & \\frac{\\sqrt{6}}{2}\\\\0 & 0 & \\frac{\\sqrt{6}}{2} & - \\frac{\\sqrt{2} i \\nu}{2 k}\\end{matrix}\\right]$"
      ],
      "text/plain": [
       "Matrix([\n",
       "[        0, sqrt(2)/2,         0,                   0],\n",
       "[sqrt(2)/2,         0,         1,                   0],\n",
       "[        0,         1,         0,           sqrt(6)/2],\n",
       "[        0,         0, sqrt(6)/2, -sqrt(2)*I*nu/(2*k)]])"
      ]
     },
     "execution_count": 47,
     "metadata": {},
     "output_type": "execute_result"
    }
   ],
   "source": [
    "A"
   ]
  },
  {
   "cell_type": "code",
   "execution_count": 48,
   "id": "269ee348",
   "metadata": {},
   "outputs": [],
   "source": [
    "I = np.eye(Nv, dtype=int)"
   ]
  },
  {
   "cell_type": "code",
   "execution_count": 49,
   "id": "7b281eb0",
   "metadata": {},
   "outputs": [],
   "source": [
    "M = sympy.Matrix(I*xi - A)"
   ]
  },
  {
   "cell_type": "code",
   "execution_count": 50,
   "id": "a1d81a26",
   "metadata": {},
   "outputs": [],
   "source": [
    "R_approx = sympy.simplify(sympy.simplify(M.inv()[0, 1]/sympy.sqrt(2)))"
   ]
  },
  {
   "cell_type": "code",
   "execution_count": 51,
   "id": "06451b87-3e00-463d-9aa5-93fd4f195db9",
   "metadata": {},
   "outputs": [
    {
     "data": {
      "text/latex": [
       "$\\displaystyle \\frac{2 k \\xi^{2} - 3 k + \\sqrt{2} i \\nu \\xi}{4 k \\xi^{4} - 12 k \\xi^{2} + 3 k + 2 \\sqrt{2} i \\nu \\xi^{3} - 3 \\sqrt{2} i \\nu \\xi}$"
      ],
      "text/plain": [
       "(2*k*xi**2 - 3*k + sqrt(2)*I*nu*xi)/(4*k*xi**4 - 12*k*xi**2 + 3*k + 2*sqrt(2)*I*nu*xi**3 - 3*sqrt(2)*I*nu*xi)"
      ]
     },
     "execution_count": 51,
     "metadata": {},
     "output_type": "execute_result"
    }
   ],
   "source": [
    "R_approx"
   ]
  },
  {
   "cell_type": "code",
   "execution_count": 52,
   "id": "da350f1d-7207-438d-a825-178bfc70d955",
   "metadata": {},
   "outputs": [
    {
     "name": "stdout",
     "output_type": "stream",
     "text": [
      "\\frac{2 k \\xi^{2} - 3 k + \\sqrt{2} i \\nu \\xi}{4 k \\xi^{4} - 12 k \\xi^{2} + 3 k + 2 \\sqrt{2} i \\nu \\xi^{3} - 3 \\sqrt{2} i \\nu \\xi}\n"
     ]
    }
   ],
   "source": [
    "print_latex(R_approx)"
   ]
  },
  {
   "cell_type": "markdown",
   "id": "68445062-61cc-4368-ab5b-2aed0d3150ac",
   "metadata": {},
   "source": [
    "# Kinetic response function "
   ]
  },
  {
   "cell_type": "code",
   "execution_count": 53,
   "id": "28153999",
   "metadata": {},
   "outputs": [],
   "source": [
    "def Z_fun(z):\n",
    "    return 1j*np.sqrt(np.pi)*wofz(z)\n",
    "\n",
    "def R(zeta):\n",
    "    return -(1 + zeta*Z_fun(zeta))\n",
    "\n",
    "def R6(zeta, col):\n",
    "    return sympy.lambdify((xi, nu), R_approx)(zeta, col)\n",
    "\n",
    "def RHP3(xi):\n",
    "    xi = xi*np.sqrt(2)\n",
    "    return (-1j*xi + 1.596)/(-1j*(xi**3) + 1.596*(xi**2) + 3*1j*xi -1.596)\n",
    "\n",
    "def RHP4(xi):\n",
    "    xi = xi*np.sqrt(2)\n",
    "    return (xi**2 + 3.519*1j*xi -5.615)/(xi**4 + 3.519*1j*(xi**3) -8.615*(xi**2) -10.556*1j*xi + 5.615)"
   ]
  },
  {
   "cell_type": "code",
   "execution_count": 54,
   "id": "97efae74-e6aa-4648-a8be-6f3f19be4acf",
   "metadata": {},
   "outputs": [],
   "source": [
    "zeta = 10**np.linspace(-2, 3, 200)"
   ]
  },
  {
   "cell_type": "code",
   "execution_count": 55,
   "id": "fc3ec876-13b5-44be-9b4c-9b237f8da909",
   "metadata": {},
   "outputs": [],
   "source": [
    "R_0 = R6(zeta, 0) \n",
    "R_1 = R6(zeta, 1) \n",
    "R_2 = R6(zeta, 2)\n",
    "R_7 = R6(zeta, 7)\n",
    "R_true = R(zeta)"
   ]
  },
  {
   "cell_type": "code",
   "execution_count": 56,
   "id": "4abf5e85-d790-49a4-85b8-4d8f26eec7ef",
   "metadata": {},
   "outputs": [],
   "source": [
    "R_HP3 = RHP3(zeta)\n",
    "R_HP4 = RHP4(zeta)"
   ]
  },
  {
   "cell_type": "code",
   "execution_count": 57,
   "id": "138a2b98-ba11-4fb8-95f6-dcd3aa6e870b",
   "metadata": {},
   "outputs": [
    {
     "ename": "TypeError",
     "evalue": "Cannot convert expression to float",
     "output_type": "error",
     "traceback": [
      "\u001b[0;31m---------------------------------------------------------------------------\u001b[0m",
      "\u001b[0;31mTypeError\u001b[0m                                 Traceback (most recent call last)",
      "Cell \u001b[0;32mIn[57], line 5\u001b[0m\n\u001b[1;32m      3\u001b[0m ax\u001b[38;5;241m.\u001b[39mplot(zeta, np\u001b[38;5;241m.\u001b[39mabs(R_true), label\u001b[38;5;241m=\u001b[39m\u001b[38;5;124mr\u001b[39m\u001b[38;5;124m\"\u001b[39m\u001b[38;5;124mkinetic response $|R(\u001b[39m\u001b[38;5;124m\\\u001b[39m\u001b[38;5;124mxi)|$\u001b[39m\u001b[38;5;124m\"\u001b[39m, c\u001b[38;5;241m=\u001b[39m\u001b[38;5;124m\"\u001b[39m\u001b[38;5;124mblue\u001b[39m\u001b[38;5;124m\"\u001b[39m, linewidth\u001b[38;5;241m=\u001b[39m\u001b[38;5;241m3\u001b[39m)\n\u001b[1;32m      4\u001b[0m ax\u001b[38;5;241m.\u001b[39mplot(zeta, np\u001b[38;5;241m.\u001b[39mabs(R_0), label\u001b[38;5;241m=\u001b[39m\u001b[38;5;124mr\u001b[39m\u001b[38;5;124m\"\u001b[39m\u001b[38;5;124mSPS $\u001b[39m\u001b[38;5;124m\\\u001b[39m\u001b[38;5;124mnu=0$\u001b[39m\u001b[38;5;124m\"\u001b[39m, c\u001b[38;5;241m=\u001b[39m\u001b[38;5;124m\"\u001b[39m\u001b[38;5;124mred\u001b[39m\u001b[38;5;124m\"\u001b[39m, ls\u001b[38;5;241m=\u001b[39m\u001b[38;5;124m\"\u001b[39m\u001b[38;5;124m--\u001b[39m\u001b[38;5;124m\"\u001b[39m, linewidth\u001b[38;5;241m=\u001b[39m\u001b[38;5;241m3\u001b[39m, alpha\u001b[38;5;241m=\u001b[39m\u001b[38;5;241m0.7\u001b[39m)\n\u001b[0;32m----> 5\u001b[0m \u001b[43max\u001b[49m\u001b[38;5;241;43m.\u001b[39;49m\u001b[43mplot\u001b[49m\u001b[43m(\u001b[49m\u001b[43mzeta\u001b[49m\u001b[43m,\u001b[49m\u001b[43m \u001b[49m\u001b[43mnp\u001b[49m\u001b[38;5;241;43m.\u001b[39;49m\u001b[43mabs\u001b[49m\u001b[43m(\u001b[49m\u001b[43mR_1\u001b[49m\u001b[43m)\u001b[49m\u001b[43m,\u001b[49m\u001b[43m \u001b[49m\u001b[43mlabel\u001b[49m\u001b[38;5;241;43m=\u001b[39;49m\u001b[38;5;124;43mr\u001b[39;49m\u001b[38;5;124;43m\"\u001b[39;49m\u001b[38;5;124;43mSPS $\u001b[39;49m\u001b[38;5;124;43m\\\u001b[39;49m\u001b[38;5;124;43mnu=1$\u001b[39;49m\u001b[38;5;124;43m\"\u001b[39;49m\u001b[43m,\u001b[49m\u001b[43m \u001b[49m\u001b[43mc\u001b[49m\u001b[38;5;241;43m=\u001b[39;49m\u001b[38;5;124;43m\"\u001b[39;49m\u001b[38;5;124;43morange\u001b[39;49m\u001b[38;5;124;43m\"\u001b[39;49m\u001b[43m,\u001b[49m\u001b[43m \u001b[49m\u001b[43mls\u001b[49m\u001b[38;5;241;43m=\u001b[39;49m\u001b[38;5;124;43m\"\u001b[39;49m\u001b[38;5;124;43m:\u001b[39;49m\u001b[38;5;124;43m\"\u001b[39;49m\u001b[43m,\u001b[49m\u001b[43m \u001b[49m\u001b[43mlinewidth\u001b[49m\u001b[38;5;241;43m=\u001b[39;49m\u001b[38;5;241;43m3\u001b[39;49m\u001b[43m,\u001b[49m\u001b[43m \u001b[49m\u001b[43malpha\u001b[49m\u001b[38;5;241;43m=\u001b[39;49m\u001b[38;5;241;43m0.7\u001b[39;49m\u001b[43m)\u001b[49m\n\u001b[1;32m      6\u001b[0m ax\u001b[38;5;241m.\u001b[39mplot(zeta, np\u001b[38;5;241m.\u001b[39mabs(R_2), label\u001b[38;5;241m=\u001b[39m\u001b[38;5;124mr\u001b[39m\u001b[38;5;124m\"\u001b[39m\u001b[38;5;124mSPS $\u001b[39m\u001b[38;5;124m\\\u001b[39m\u001b[38;5;124mnu=2$\u001b[39m\u001b[38;5;124m\"\u001b[39m, c\u001b[38;5;241m=\u001b[39m\u001b[38;5;124m\"\u001b[39m\u001b[38;5;124mpurple\u001b[39m\u001b[38;5;124m\"\u001b[39m, ls\u001b[38;5;241m=\u001b[39m\u001b[38;5;124m\"\u001b[39m\u001b[38;5;124m-.\u001b[39m\u001b[38;5;124m\"\u001b[39m, linewidth\u001b[38;5;241m=\u001b[39m\u001b[38;5;241m3\u001b[39m, alpha\u001b[38;5;241m=\u001b[39m\u001b[38;5;241m0.7\u001b[39m)\n\u001b[1;32m      7\u001b[0m ax\u001b[38;5;241m.\u001b[39mplot(zeta, np\u001b[38;5;241m.\u001b[39mabs(R_7), label\u001b[38;5;241m=\u001b[39m\u001b[38;5;124mr\u001b[39m\u001b[38;5;124m\"\u001b[39m\u001b[38;5;124mSPS $\u001b[39m\u001b[38;5;124m\\\u001b[39m\u001b[38;5;124mnu=7$\u001b[39m\u001b[38;5;124m\"\u001b[39m, c\u001b[38;5;241m=\u001b[39m\u001b[38;5;124m\"\u001b[39m\u001b[38;5;124mgreen\u001b[39m\u001b[38;5;124m\"\u001b[39m, ls\u001b[38;5;241m=\u001b[39m\u001b[38;5;124m\"\u001b[39m\u001b[38;5;124m--\u001b[39m\u001b[38;5;124m\"\u001b[39m, linewidth\u001b[38;5;241m=\u001b[39m\u001b[38;5;241m3\u001b[39m, alpha\u001b[38;5;241m=\u001b[39m\u001b[38;5;241m0.7\u001b[39m)\n",
      "File \u001b[0;32m/opt/anaconda3/envs/rom/lib/python3.9/site-packages/matplotlib/axes/_axes.py:1723\u001b[0m, in \u001b[0;36mAxes.plot\u001b[0;34m(self, scalex, scaley, data, *args, **kwargs)\u001b[0m\n\u001b[1;32m   1721\u001b[0m lines \u001b[38;5;241m=\u001b[39m [\u001b[38;5;241m*\u001b[39m\u001b[38;5;28mself\u001b[39m\u001b[38;5;241m.\u001b[39m_get_lines(\u001b[38;5;28mself\u001b[39m, \u001b[38;5;241m*\u001b[39margs, data\u001b[38;5;241m=\u001b[39mdata, \u001b[38;5;241m*\u001b[39m\u001b[38;5;241m*\u001b[39mkwargs)]\n\u001b[1;32m   1722\u001b[0m \u001b[38;5;28;01mfor\u001b[39;00m line \u001b[38;5;129;01min\u001b[39;00m lines:\n\u001b[0;32m-> 1723\u001b[0m     \u001b[38;5;28;43mself\u001b[39;49m\u001b[38;5;241;43m.\u001b[39;49m\u001b[43madd_line\u001b[49m\u001b[43m(\u001b[49m\u001b[43mline\u001b[49m\u001b[43m)\u001b[49m\n\u001b[1;32m   1724\u001b[0m \u001b[38;5;28;01mif\u001b[39;00m scalex:\n\u001b[1;32m   1725\u001b[0m     \u001b[38;5;28mself\u001b[39m\u001b[38;5;241m.\u001b[39m_request_autoscale_view(\u001b[38;5;124m\"\u001b[39m\u001b[38;5;124mx\u001b[39m\u001b[38;5;124m\"\u001b[39m)\n",
      "File \u001b[0;32m/opt/anaconda3/envs/rom/lib/python3.9/site-packages/matplotlib/axes/_base.py:2309\u001b[0m, in \u001b[0;36m_AxesBase.add_line\u001b[0;34m(self, line)\u001b[0m\n\u001b[1;32m   2306\u001b[0m \u001b[38;5;28;01mif\u001b[39;00m line\u001b[38;5;241m.\u001b[39mget_clip_path() \u001b[38;5;129;01mis\u001b[39;00m \u001b[38;5;28;01mNone\u001b[39;00m:\n\u001b[1;32m   2307\u001b[0m     line\u001b[38;5;241m.\u001b[39mset_clip_path(\u001b[38;5;28mself\u001b[39m\u001b[38;5;241m.\u001b[39mpatch)\n\u001b[0;32m-> 2309\u001b[0m \u001b[38;5;28;43mself\u001b[39;49m\u001b[38;5;241;43m.\u001b[39;49m\u001b[43m_update_line_limits\u001b[49m\u001b[43m(\u001b[49m\u001b[43mline\u001b[49m\u001b[43m)\u001b[49m\n\u001b[1;32m   2310\u001b[0m \u001b[38;5;28;01mif\u001b[39;00m \u001b[38;5;129;01mnot\u001b[39;00m line\u001b[38;5;241m.\u001b[39mget_label():\n\u001b[1;32m   2311\u001b[0m     line\u001b[38;5;241m.\u001b[39mset_label(\u001b[38;5;124mf\u001b[39m\u001b[38;5;124m'\u001b[39m\u001b[38;5;124m_child\u001b[39m\u001b[38;5;132;01m{\u001b[39;00m\u001b[38;5;28mlen\u001b[39m(\u001b[38;5;28mself\u001b[39m\u001b[38;5;241m.\u001b[39m_children)\u001b[38;5;132;01m}\u001b[39;00m\u001b[38;5;124m'\u001b[39m)\n",
      "File \u001b[0;32m/opt/anaconda3/envs/rom/lib/python3.9/site-packages/matplotlib/axes/_base.py:2332\u001b[0m, in \u001b[0;36m_AxesBase._update_line_limits\u001b[0;34m(self, line)\u001b[0m\n\u001b[1;32m   2328\u001b[0m \u001b[38;5;28;01mdef\u001b[39;00m \u001b[38;5;21m_update_line_limits\u001b[39m(\u001b[38;5;28mself\u001b[39m, line):\n\u001b[1;32m   2329\u001b[0m \u001b[38;5;250m    \u001b[39m\u001b[38;5;124;03m\"\"\"\u001b[39;00m\n\u001b[1;32m   2330\u001b[0m \u001b[38;5;124;03m    Figures out the data limit of the given line, updating self.dataLim.\u001b[39;00m\n\u001b[1;32m   2331\u001b[0m \u001b[38;5;124;03m    \"\"\"\u001b[39;00m\n\u001b[0;32m-> 2332\u001b[0m     path \u001b[38;5;241m=\u001b[39m \u001b[43mline\u001b[49m\u001b[38;5;241;43m.\u001b[39;49m\u001b[43mget_path\u001b[49m\u001b[43m(\u001b[49m\u001b[43m)\u001b[49m\n\u001b[1;32m   2333\u001b[0m     \u001b[38;5;28;01mif\u001b[39;00m path\u001b[38;5;241m.\u001b[39mvertices\u001b[38;5;241m.\u001b[39msize \u001b[38;5;241m==\u001b[39m \u001b[38;5;241m0\u001b[39m:\n\u001b[1;32m   2334\u001b[0m         \u001b[38;5;28;01mreturn\u001b[39;00m\n",
      "File \u001b[0;32m/opt/anaconda3/envs/rom/lib/python3.9/site-packages/matplotlib/lines.py:1032\u001b[0m, in \u001b[0;36mLine2D.get_path\u001b[0;34m(self)\u001b[0m\n\u001b[1;32m   1030\u001b[0m \u001b[38;5;250m\u001b[39m\u001b[38;5;124;03m\"\"\"Return the `~matplotlib.path.Path` associated with this line.\"\"\"\u001b[39;00m\n\u001b[1;32m   1031\u001b[0m \u001b[38;5;28;01mif\u001b[39;00m \u001b[38;5;28mself\u001b[39m\u001b[38;5;241m.\u001b[39m_invalidy \u001b[38;5;129;01mor\u001b[39;00m \u001b[38;5;28mself\u001b[39m\u001b[38;5;241m.\u001b[39m_invalidx:\n\u001b[0;32m-> 1032\u001b[0m     \u001b[38;5;28;43mself\u001b[39;49m\u001b[38;5;241;43m.\u001b[39;49m\u001b[43mrecache\u001b[49m\u001b[43m(\u001b[49m\u001b[43m)\u001b[49m\n\u001b[1;32m   1033\u001b[0m \u001b[38;5;28;01mreturn\u001b[39;00m \u001b[38;5;28mself\u001b[39m\u001b[38;5;241m.\u001b[39m_path\n",
      "File \u001b[0;32m/opt/anaconda3/envs/rom/lib/python3.9/site-packages/matplotlib/lines.py:674\u001b[0m, in \u001b[0;36mLine2D.recache\u001b[0;34m(self, always)\u001b[0m\n\u001b[1;32m    672\u001b[0m \u001b[38;5;28;01mif\u001b[39;00m always \u001b[38;5;129;01mor\u001b[39;00m \u001b[38;5;28mself\u001b[39m\u001b[38;5;241m.\u001b[39m_invalidy:\n\u001b[1;32m    673\u001b[0m     yconv \u001b[38;5;241m=\u001b[39m \u001b[38;5;28mself\u001b[39m\u001b[38;5;241m.\u001b[39mconvert_yunits(\u001b[38;5;28mself\u001b[39m\u001b[38;5;241m.\u001b[39m_yorig)\n\u001b[0;32m--> 674\u001b[0m     y \u001b[38;5;241m=\u001b[39m \u001b[43m_to_unmasked_float_array\u001b[49m\u001b[43m(\u001b[49m\u001b[43myconv\u001b[49m\u001b[43m)\u001b[49m\u001b[38;5;241m.\u001b[39mravel()\n\u001b[1;32m    675\u001b[0m \u001b[38;5;28;01melse\u001b[39;00m:\n\u001b[1;32m    676\u001b[0m     y \u001b[38;5;241m=\u001b[39m \u001b[38;5;28mself\u001b[39m\u001b[38;5;241m.\u001b[39m_y\n",
      "File \u001b[0;32m/opt/anaconda3/envs/rom/lib/python3.9/site-packages/matplotlib/cbook.py:1345\u001b[0m, in \u001b[0;36m_to_unmasked_float_array\u001b[0;34m(x)\u001b[0m\n\u001b[1;32m   1343\u001b[0m     \u001b[38;5;28;01mreturn\u001b[39;00m np\u001b[38;5;241m.\u001b[39mma\u001b[38;5;241m.\u001b[39masarray(x, \u001b[38;5;28mfloat\u001b[39m)\u001b[38;5;241m.\u001b[39mfilled(np\u001b[38;5;241m.\u001b[39mnan)\n\u001b[1;32m   1344\u001b[0m \u001b[38;5;28;01melse\u001b[39;00m:\n\u001b[0;32m-> 1345\u001b[0m     \u001b[38;5;28;01mreturn\u001b[39;00m \u001b[43mnp\u001b[49m\u001b[38;5;241;43m.\u001b[39;49m\u001b[43masarray\u001b[49m\u001b[43m(\u001b[49m\u001b[43mx\u001b[49m\u001b[43m,\u001b[49m\u001b[43m \u001b[49m\u001b[38;5;28;43mfloat\u001b[39;49m\u001b[43m)\u001b[49m\n",
      "File \u001b[0;32m/opt/anaconda3/envs/rom/lib/python3.9/site-packages/sympy/core/expr.py:351\u001b[0m, in \u001b[0;36mExpr.__float__\u001b[0;34m(self)\u001b[0m\n\u001b[1;32m    349\u001b[0m \u001b[38;5;28;01mif\u001b[39;00m result\u001b[38;5;241m.\u001b[39mis_number \u001b[38;5;129;01mand\u001b[39;00m result\u001b[38;5;241m.\u001b[39mas_real_imag()[\u001b[38;5;241m1\u001b[39m]:\n\u001b[1;32m    350\u001b[0m     \u001b[38;5;28;01mraise\u001b[39;00m \u001b[38;5;167;01mTypeError\u001b[39;00m(\u001b[38;5;124m\"\u001b[39m\u001b[38;5;124mCannot convert complex to float\u001b[39m\u001b[38;5;124m\"\u001b[39m)\n\u001b[0;32m--> 351\u001b[0m \u001b[38;5;28;01mraise\u001b[39;00m \u001b[38;5;167;01mTypeError\u001b[39;00m(\u001b[38;5;124m\"\u001b[39m\u001b[38;5;124mCannot convert expression to float\u001b[39m\u001b[38;5;124m\"\u001b[39m)\n",
      "\u001b[0;31mTypeError\u001b[0m: Cannot convert expression to float"
     ]
    },
    {
     "data": {
      "image/png": "[encoded data removed]",
      "text/plain": [
       "<Figure size 600x500 with 1 Axes>"
      ]
     },
     "metadata": {},
     "output_type": "display_data"
    }
   ],
   "source": [
    "fig, ax = plt.subplots(figsize=(6, 5))\n",
    "\n",
    "ax.plot(zeta, np.abs(R_true), label=r\"kinetic response $|R(\\xi)|$\", c=\"blue\", linewidth=3)\n",
    "ax.plot(zeta, np.abs(R_0), label=r\"SPS $\\nu=0$\", c=\"red\", ls=\"--\", linewidth=3, alpha=0.7)\n",
    "ax.plot(zeta, np.abs(R_1), label=r\"SPS $\\nu=1$\", c=\"orange\", ls=\":\", linewidth=3, alpha=0.7)\n",
    "ax.plot(zeta, np.abs(R_2), label=r\"SPS $\\nu=2$\", c=\"purple\", ls=\"-.\", linewidth=3, alpha=0.7)\n",
    "ax.plot(zeta, np.abs(R_7), label=r\"SPS $\\nu=7$\", c=\"green\", ls=\"--\", linewidth=3, alpha=0.7)\n",
    "ax.set_ylim(10**-6, 10**2)\n",
    "ax.set_yscale(\"log\")\n",
    "ax.spines['right'].set_visible(False)\n",
    "ax.spines['top'].set_visible(False)\n",
    "ax.set_ylabel(r\"$|R(\\xi)|$\")\n",
    "ax.set_xlabel(r\"$\\xi = \\omega/(|k|v_{t} \\sqrt{2})$\")\n",
    "ax.set_xscale(\"log\")\n",
    "ax.set_xlim(1e-2, 1e3)\n",
    "legend = ax.legend(ncols=1, fancybox=False, shadow=False, fontsize=12, loc='upper right')\n",
    "legend.get_frame().set_alpha(0)\n",
    "plt.tight_layout()\n",
    "plt.savefig(\"../figs/symbolic_response_function_SPS_collisons.png\", dpi=600)"
   ]
  },
  {
   "cell_type": "code",
   "execution_count": null,
   "id": "093d9712-2a6b-40a3-be60-7e37f70cd0c6",
   "metadata": {},
   "outputs": [],
   "source": [
    "fig, ax = plt.subplots(figsize=(6, 5))\n",
    "\n",
    "ax.plot(zeta, np.abs(np.real(R_2)-np.real(R_true)), label=r\"$\\nu=2$\", c=\"purple\", ls=\"-.\", linewidth=3, alpha=0.7)\n",
    "ax.plot(zeta, np.abs(np.real(R_true)-np.real(R_7)), \":\", label=r\"$\\nu=7$\", c=\"green\", linewidth=3, alpha=0.7)\n",
    "ax.plot(zeta, np.abs(np.real(R_true)-np.real(R_HP3)), \"--\", label=r\"Hammett-Perkins$_{3}$\", c=\"red\", linewidth=3, alpha=0.7)\n",
    "ax.plot(zeta, np.abs(np.real(R_true)-np.real(R_HP4)), \"-\", label=r\"Hammett-Perkins$_{4}$\", c=\"orange\", linewidth=3, alpha=0.7)\n",
    "\n",
    "ax.set_ylim(0, 0.3)\n",
    "#ax.set_yscale(\"log\")\n",
    "ax.spines['right'].set_visible(False)\n",
    "ax.spines['top'].set_visible(False)\n",
    "ax.set_ylabel(r\"$Re(R(\\xi))$ absolute error\")\n",
    "ax.set_xlabel(r\"$\\xi = \\omega/(|k|v_{t} \\sqrt{2})$\")\n",
    "ax.set_xscale(\"log\")\n",
    "ax.set_xlim(1e-2, 1e3)\n",
    "legend = ax.legend(ncols=1, fancybox=False, shadow=False, fontsize=12, loc='upper right')\n",
    "legend.get_frame().set_alpha(0)\n",
    "plt.tight_layout()\n",
    "plt.savefig(\"../figs/symbolic_response_function_AW_collisons_real_\" + str(Nv) + \".png\", dpi=600)"
   ]
  },
  {
   "cell_type": "code",
   "execution_count": null,
   "id": "e97a25de-e89f-4309-8cc9-0550189a7c8c",
   "metadata": {},
   "outputs": [],
   "source": [
    "fig, ax = plt.subplots(figsize=(6, 5))\n",
    "\n",
    "ax.plot(zeta, np.abs(np.imag(R_2)-np.imag(R_true)), label=r\"$\\nu=2$\", c=\"purple\", ls=\"-.\", linewidth=3, alpha=0.7)\n",
    "ax.plot(zeta, np.abs(np.imag(R_true)-np.imag(R_7)), \":\", label=r\"$SPS_{} Re(R(\\xi))$\", c=\"green\", linewidth=3, alpha=0.7)\n",
    "ax.plot(zeta, np.abs(np.imag(R_true)-np.imag(R_HP3)), \"--\", label=r\"Hammett-Perkins$_{3}$\", c=\"red\", linewidth=3, alpha=0.7)\n",
    "ax.plot(zeta, np.abs(np.imag(R_true)-np.imag(R_HP4)), \"-\", label=r\"Hammett-Perkins$_{4}$\", c=\"orange\", linewidth=3, alpha=0.7)\n",
    "\n",
    "ax.set_ylim(0, 0.3)\n",
    "#ax.set_yscale(\"log\")\n",
    "ax.spines['right'].set_visible(False)\n",
    "ax.spines['top'].set_visible(False)\n",
    "ax.set_ylabel(r\"$Im(R(\\xi))$ absolute error\")\n",
    "ax.set_xlabel(r\"$\\xi = \\omega/(|k|v_{t} \\sqrt{2})$\")\n",
    "ax.set_xscale(\"log\")\n",
    "ax.set_xlim(1e-2, 1e3)\n",
    "#legend = ax.legend(ncols=1, fancybox=False, shadow=False, fontsize=12, loc='lower right')\n",
    "#legend.get_frame().set_alpha(0)\n",
    "plt.tight_layout()\n",
    "plt.savefig(\"../figs/symbolic_response_function_AW_collisons_imag_\" + str(Nv) + \".png\", dpi=600)"
   ]
  },
  {
   "cell_type": "markdown",
   "id": "61725b2a-d026-48fd-a62a-a268b43ad938",
   "metadata": {},
   "source": [
    "# Landau Damping Dispersion Relation"
   ]
  },
  {
   "cell_type": "code",
   "execution_count": 82,
   "id": "ba49ed8d-8bda-4e6f-aa7d-0b77dbb36686",
   "metadata": {},
   "outputs": [],
   "source": [
    "def disp_k(omega, k=1):\n",
    "    return k**2 - R(zeta=omega/(np.sqrt(2)*k))\n",
    "\n",
    "def disp_hp3(omega, k=1, nu=1):\n",
    "    return k**2 - RHP3(xi=omega/(k*np.sqrt(2)))\n",
    "\n",
    "def disp_hp4(omega, k=1, nu=1):\n",
    "    return k**2 - RHP4(xi=omega/(k*np.sqrt(2)))\n",
    "\n",
    "def disp_R6(omega, k=1, nu=1):\n",
    "    return k**2 -  R6(zeta=omega/(k*np.sqrt(2)), col=nu)"
   ]
  },
  {
   "cell_type": "code",
   "execution_count": 83,
   "id": "3172cff3-a8b0-4cd7-8de2-2d64f376b67a",
   "metadata": {},
   "outputs": [],
   "source": [
    "res_true = scipy.optimize.newton(disp_k, 1.41-0.81j, maxiter=100)"
   ]
  },
  {
   "cell_type": "code",
   "execution_count": 84,
   "id": "fd97872b-0382-4833-ba5e-d4675a27f7c5",
   "metadata": {},
   "outputs": [],
   "source": [
    "res_hp3 = scipy.optimize.newton(disp_hp3, 2-0.61j, maxiter=100)"
   ]
  },
  {
   "cell_type": "code",
   "execution_count": 85,
   "id": "c7f748da-ab22-43cd-9c50-5c9c177fd6fa",
   "metadata": {},
   "outputs": [],
   "source": [
    "res_hp4 = scipy.optimize.newton(disp_hp4, 2-0.61j, maxiter=100)"
   ]
  },
  {
   "cell_type": "code",
   "execution_count": 89,
   "id": "383d84df-ca06-4ff9-8676-eedfebfeaee5",
   "metadata": {},
   "outputs": [
    {
     "name": "stderr",
     "output_type": "stream",
     "text": [
      "<lambdifygenerated-64>:2: RuntimeWarning: invalid value encountered in true_divide\n",
      "  return (-0.001875*nu**4*xi + 0.0525*sqrt(2)*1j*nu**3*xi**2 - 0.05625*sqrt(2)*1j*nu**3 + 0.66375*nu**2*xi**3 - 1.76625*nu**2*xi - 1.3125*sqrt(2)*1j*nu*xi**4 + 6.69375*sqrt(2)*1j*nu*xi**2 - 3.4875*sqrt(2)*1j*nu - 1.5*xi**5 + 13.5*xi**3 - 21.375*xi)/(-0.00375*nu**4*xi**3 + 0.005625*nu**4*xi + 0.105*sqrt(2)*1j*nu**3*xi**4 - 0.27*sqrt(2)*1j*nu**3*xi**2 + 0.05625*sqrt(2)*1j*nu**3 + 1.3275*nu**2*xi**5 - 5.52375*nu**2*xi**3 + 3.49875*nu**2*xi - 2.625*sqrt(2)*1j*nu*xi**6 + 17.325*sqrt(2)*1j*nu*xi**4 - 23.23125*sqrt(2)*1j*nu*xi**2 + 3.4875*sqrt(2)*1j*nu - 3.0*xi**7 + 31.5*xi**5 - 78.75*xi**3 + 39.375*xi)\n"
     ]
    },
    {
     "data": {
      "image/png": "[encoded data removed]",
      "text/plain": [
       "<Figure size 600x600 with 1 Axes>"
      ]
     },
     "metadata": {},
     "output_type": "display_data"
    }
   ],
   "source": [
    "fig, ax = plt.subplots(figsize=(6, 6))\n",
    "for nu_ in range(0, 20):\n",
    "    omega_r = np.linspace(0, 3, int(1e3))\n",
    "    omega_i = np.linspace(-1, 0, int(1e3))\n",
    "    X, Y = np.meshgrid(omega_r, omega_i)\n",
    "    Z = disp_R6(X+1j*Y, nu=nu_)\n",
    "    index = np.unravel_index(np.nanargmin(np.abs(Z)), Z.shape)\n",
    "    if np.nanmin(np.abs(Z)) < 1E-3:\n",
    "        ax.scatter(nu_, np.abs(Y[index].real-res_true.imag), c=\"blue\")\n",
    "\n",
    "ax.axhline(np.abs(res_hp3.imag-res_true.imag), label=\"Hammett-Perkins$_{3}$\", c=\"red\", linewidth=3)\n",
    "ax.axhline(np.abs(res_hp4.imag-res_true.imag), label=\"Hammett-Perkins$_{4}$\", c=\"green\", ls=\"--\", linewidth=3)\n",
    "ax.set_xlabel(r\"artificial collisions frequency $\\nu$\")\n",
    "ax.set_ylabel(r\"damping rate $\\gamma$ absolute error w/ $k=1$\")\n",
    "\n",
    "legend = ax.legend(ncols=1, fancybox=False, shadow=False, fontsize=12, loc='upper right')\n",
    "legend.get_frame().set_alpha(0)\n",
    "plt.grid()\n",
    "\n",
    "plt.tight_layout()"
   ]
  },
  {
   "cell_type": "code",
   "execution_count": null,
   "id": "0ed01ad4-9755-4920-af0c-9ecffb2cbf67",
   "metadata": {},
   "outputs": [],
   "source": []
  }
 ],
 "metadata": {
  "kernelspec": {
   "display_name": "Python 3 (ipykernel)",
   "language": "python",
   "name": "python3"
  },
  "language_info": {
   "codemirror_mode": {
    "name": "ipython",
    "version": 3
   },
   "file_extension": ".py",
   "mimetype": "text/x-python",
   "name": "python",
   "nbconvert_exporter": "python",
   "pygments_lexer": "ipython3",
   "version": "3.9.12"
  }
 },
 "nbformat": 4,
 "nbformat_minor": 5
}
